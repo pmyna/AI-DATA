{
 "cells": [
  {
   "cell_type": "markdown",
   "metadata": {
    "id": "SVJ1s_h1XQeA"
   },
   "source": [
    "## Aufgabe 1\n",
    "\n",
    "Schreibe eine rekursive Funktion `fac_rec(num)`, die die Zahlen von 1 bis `num` multipliziert. (So wie die Funktion `little_gauss`).\n",
    "\n",
    "*Ersetze `pass` durch deine Implementierung*"
   ]
  },
  {
   "cell_type": "code",
   "execution_count": null,
   "metadata": {
    "id": "IvPUK-q1XP9J"
   },
   "outputs": [],
   "source": [
    "def fac_rec(num):\n",
    "  pass"
   ]
  },
  {
   "cell_type": "markdown",
   "metadata": {
    "id": "T2RONxQlYBXC"
   },
   "source": [
    "## Aufgabe 2\n",
    "\n",
    "Die Fibonacci-Zahlen lauten 0,1,1,2,3,5,8,13,21...\n",
    "\n",
    "Jede zahl ist die Summe ihrer beiden Vorgänger.\n",
    "\n",
    "3+5=8\n",
    "\n",
    "5+8=13\n",
    "\n",
    "Schreibe eine rekursive Funktion `fib_rec(n)`, die die nte Fibonacci-Zahl.berechnet. Die 0te Fibonacci-Zahl ist 0. Die 1te Fibonacci-Zahl ist 0.\n",
    "```\n",
    "fib_rec(0) = 0\n",
    "fib_rec(1) = 1\n",
    "fib_rec(5) = 5\n",
    "fib_rec(6) = 8\n",
    "```\n"
   ]
  },
  {
   "cell_type": "code",
   "execution_count": null,
   "metadata": {
    "id": "gI-9fax-YKfI"
   },
   "outputs": [],
   "source": [
    "def fib_rec(n):\n",
    "  pass"
   ]
  },
  {
   "cell_type": "markdown",
   "metadata": {
    "id": "WOIXwgXbaG8o"
   },
   "source": [
    "## Aufgabe 3\n",
    "Schreibe eine Funktion `compound_interest(base_interest, run_time)` die den Zinseszins berechent."
   ]
  },
  {
   "cell_type": "code",
   "execution_count": null,
   "metadata": {
    "id": "0sUj82XtaIBf"
   },
   "outputs": [],
   "source": [
    "def compound_interest(base_interest, run_time):\n",
    "  return 0"
   ]
  },
  {
   "cell_type": "code",
   "execution_count": null,
   "metadata": {
    "colab": {
     "base_uri": "https://localhost:8080/"
    },
    "id": "Y6sB05W4a5Yx",
    "outputId": "1a31cb51-8bf3-4f2b-bf1e-7e83651efdc0"
   },
   "outputs": [
    {
     "name": "stdout",
     "output_type": "stream",
     "text": [
      "0\n"
     ]
    }
   ],
   "source": [
    "anfangskapital = 37\n",
    "zinssatz = 3.5\n",
    "laufzeit = 10\n",
    "\n",
    "kapital  = anfangskapital * compound_interest(zinssatz, laufzeit) \n",
    "print(kapital) # 52.19215414298148"
   ]
  }
 ],
 "metadata": {
  "colab": {
   "collapsed_sections": [],
   "name": "Aufgaben.ipynb",
   "provenance": []
  },
  "kernelspec": {
   "display_name": "Python 3 (ipykernel)",
   "language": "python",
   "name": "python3"
  },
  "language_info": {
   "codemirror_mode": {
    "name": "ipython",
    "version": 3
   },
   "file_extension": ".py",
   "mimetype": "text/x-python",
   "name": "python",
   "nbconvert_exporter": "python",
   "pygments_lexer": "ipython3",
   "version": "3.8.10"
  }
 },
 "nbformat": 4,
 "nbformat_minor": 1
}

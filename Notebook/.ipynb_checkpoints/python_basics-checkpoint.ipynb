{
 "cells": [
  {
   "cell_type": "markdown",
   "metadata": {
    "id": "rvXmrgHv3lKX"
   },
   "source": [
    "# Python Basics\n",
    "\n"
   ]
  },
  {
   "cell_type": "markdown",
   "metadata": {
    "id": "1f6C-JrTKlZ6"
   },
   "source": [
    "## Einführung\n",
    "\n",
    "Wir sind es gewöhnt schöne **G**raphische **U**ser **I**nterfaces (GUI) zu haben wenn wir an an Programme denken.\n",
    "\n",
    "ProgrammiererInnen denken jedoch häufiger an Programme die kein graphisches userinterface haben.\n",
    "Tatsächlich laufen **die meisten Programme auf einem Computer im Hintergrund ab**, der/die BenutzerIn bemerkt das nicht. Diese Programme laufen entweder die ganze Zeit oder werden von anderen Programmen gestartet  und beenden sich nach erfüllung ihrer Aufgabe wieder ohne dass wir das mitbekommen.\n",
    "\n",
    "Wir werden uns in diesm Kurs mit Programmen beschäftigen die kein GUI haben. Unsere Programme werden wir fast alle in Python Notebooks wie DIESEM schreiben.\n",
    "\n",
    "Python Notebooks haben den Vorteil, dass wir uns nicht mit den Details von graphischen Benutzeroberflächen ausseinander setzen müssen, aber trotzem leicht graphiken (Bilder) ausgeben können. Python Notebooks sind leicht zum ausführen und können mit zusätzlichen Texten wie DIESEM zur Erklärung ergänzt werden.\n",
    "\n",
    "Doch bevor wir beginnen Bilder, Graphen, Plots und Analysen mit unseren Programmen zu erzeugen, müssen wir uns mit den Grundlagen beschäftigen.\n",
    "\n",
    "\n",
    "## Ausgabe\n",
    "Die einfachste Art etwas auszugeben ist mit dem Befehl `print`.\n",
    "Print ist eine *Funktion* von Python die es uns erlaubt beliebige *Werte* als Text auszugeben.\n",
    "\n",
    "Verwendet wird print wie folgt:\n",
    "\n",
    "```python\n",
    "print(\"Meine erste Ausgabe\")\n",
    "```\n",
    "\n",
    "Die *Funktion* `print` bekommt einen Text den sie Ausgeben soll. Wir erkennen Text an den Anführungszeichen `\"` oder `'`. Alles zwischen zwei Anführungszeichen ist Text. Wir sprechen in diesem Zusammenhang auch von einer Zeichenkette. Auf englisch sagen wir **String** zu Zeichenketten. Der *Funktion* `print` sagen wir was sie ausgeben soll, indem wir unmittelbar nachher Klammern verwenden `()` in die wir den Wert hinein packen der aussgegeben werden soll, diese Werte nennen wir auch die Parameter einer Funktion.\n",
    "\n",
    "In unserem Beispiel bekommt `print` also einen Parameter, nämlich den String \"Meine erste Ausgabe\".\n",
    "\n",
    "Weil wir Python Notebooks wie Programme ausführen können, werden wir den nachfolgenen Block jetzt ausführen indem wir den Play-Button drücken.\n",
    "\n",
    "Und danach sehen wir auch gleich wie eine Ausgabe in einem `.ipynb` File aussieht.\n"
   ]
  },
  {
   "cell_type": "code",
   "execution_count": 3,
   "metadata": {
    "colab": {
     "base_uri": "https://localhost:8080/"
    },
    "executionInfo": {
     "elapsed": 262,
     "status": "ok",
     "timestamp": 1649318538488,
     "user": {
      "displayName": "Moritz Bauer",
      "userId": "06541477486425102203"
     },
     "user_tz": -120
    },
    "id": "k-YMCqJS9iP1",
    "outputId": "b0845ecf-314b-41ca-973a-8d72986e1fc5"
   },
   "outputs": [
    {
     "name": "stdout",
     "output_type": "stream",
     "text": [
      "<class 'str'>\n"
     ]
    }
   ],
   "source": [
    "text = \"Meine erste Ausgabe\"\n",
    "print(type(text))"
   ]
  },
  {
   "cell_type": "code",
   "execution_count": 7,
   "metadata": {
    "colab": {
     "base_uri": "https://localhost:8080/"
    },
    "executionInfo": {
     "elapsed": 277,
     "status": "ok",
     "timestamp": 1649318728284,
     "user": {
      "displayName": "Moritz Bauer",
      "userId": "06541477486425102203"
     },
     "user_tz": -120
    },
    "id": "ZFt-sy-LDO9C",
    "outputId": "8fed4e5e-8af1-41da-e561-7c495c11a984"
   },
   "outputs": [
    {
     "data": {
      "text/plain": [
       "2"
      ]
     },
     "execution_count": 7,
     "metadata": {},
     "output_type": "execute_result"
    }
   ],
   "source": [
    "bool(2) + True"
   ]
  },
  {
   "cell_type": "markdown",
   "metadata": {
    "id": "Ix9ZSCNi9lNf"
   },
   "source": [
    "\n",
    "## Englisch\n",
    "In diesem Kurs werden wir meist für Fachbegriffe die englischen Wörter verwenden.\n",
    "\n",
    "Das hat mehrere Gründe.\n",
    "\n",
    "\n",
    "*   Wenn wir im Internet oder in der Fachliteratur nach etwas suchen werden wir fast immer englische Wörter verwenden und finden.\n",
    "*   Viele Wörter werden sowieso neu sein, also können wir auch einfach die englischen Wörter lernen.\n",
    "*   In der Arbeitswelt werden fast immer die englishen Wörter verwendet.\n",
    "\n",
    "\n",
    "Wenn also ein englisches Wort vorkommt, gilt **KEINE PANIK**, es ist nur ein Wort, meist ist das Ding was sich hinter dem Wort versteckt sehr einfach zu verstehen.\n"
   ]
  },
  {
   "cell_type": "markdown",
   "metadata": {
    "id": "2p4jGkVo_U19"
   },
   "source": [
    "## Strings und andere Typen\n",
    "\n",
    "In Programmiersprachen wie python hat jeder Wert einen *Type*.\n",
    "\n",
    "Beispiele für unterschidliche Typen sind zum Beispiel:\n",
    "\n",
    "* String\n",
    "* Number\n",
    "* List\n",
    "* Boolean (Wahrheitswerte `True` und `False`)\n",
    "* und noch viele mehr\n",
    "\n",
    "Unterschiedliche Typen haben unterschiedliche Eigenschaften und es ist wichtig zu verstehen was mit einem Type gemacht werden kann und was nicht.\n",
    "\n",
    "\n",
    "Strings und Listen haben eine Länge. Zahlen haben keine Länge."
   ]
  },
  {
   "cell_type": "code",
   "execution_count": 8,
   "metadata": {
    "colab": {
     "base_uri": "https://localhost:8080/"
    },
    "executionInfo": {
     "elapsed": 250,
     "status": "ok",
     "timestamp": 1649318787823,
     "user": {
      "displayName": "Moritz Bauer",
      "userId": "06541477486425102203"
     },
     "user_tz": -120
    },
    "id": "AeRlREGrAjGI",
    "outputId": "7323188d-4ca7-4821-ab48-e4e5078d1164"
   },
   "outputs": [
    {
     "data": {
      "text/plain": [
       "10"
      ]
     },
     "execution_count": 8,
     "metadata": {},
     "output_type": "execute_result"
    }
   ],
   "source": [
    "len(\"ein String\")"
   ]
  },
  {
   "cell_type": "code",
   "execution_count": 9,
   "metadata": {
    "colab": {
     "base_uri": "https://localhost:8080/"
    },
    "executionInfo": {
     "elapsed": 252,
     "status": "ok",
     "timestamp": 1649318790451,
     "user": {
      "displayName": "Moritz Bauer",
      "userId": "06541477486425102203"
     },
     "user_tz": -120
    },
    "id": "FmjXD32gAm64",
    "outputId": "4dee416f-c075-4c3a-d074-5f3a5f234c8a"
   },
   "outputs": [
    {
     "data": {
      "text/plain": [
       "3"
      ]
     },
     "execution_count": 9,
     "metadata": {},
     "output_type": "execute_result"
    }
   ],
   "source": [
    "len([1,2,3])"
   ]
  },
  {
   "cell_type": "markdown",
   "metadata": {
    "id": "ZLwQFXDYB-2D"
   },
   "source": [
    "## Kommentare\n",
    "In python werden alle Zeichen ignoriert die nach einer Raute `#` kommen.\n",
    "\n",
    "Kommentare sind ein wichtiges Element von Programmiersprachen. Mit Kommentaren können wir in unseren Codes sachen Erklären, damit andere (aber auch wir selbst) später leichter verstehen was der Code macht.\n",
    "\n",
    "Als gute Regel gilt, lieber zuviele Kommentare machen als zu wenig."
   ]
  },
  {
   "cell_type": "code",
   "execution_count": 14,
   "metadata": {
    "colab": {
     "base_uri": "https://localhost:8080/"
    },
    "executionInfo": {
     "elapsed": 5,
     "status": "ok",
     "timestamp": 1649318861278,
     "user": {
      "displayName": "Moritz Bauer",
      "userId": "06541477486425102203"
     },
     "user_tz": -120
    },
    "id": "Dq_L2hFUApP_",
    "outputId": "58e58bbd-51a5-4e90-b907-4441326ae312"
   },
   "outputs": [
    {
     "data": {
      "text/plain": [
       "5"
      ]
     },
     "execution_count": 14,
     "metadata": {},
     "output_type": "execute_result"
    }
   ],
   "source": [
    "# Der Befehl len funktioniert nicht mit Zahlen.\n",
    "\n",
    "# Entferne die Raute in der nächsten Zeile und führe den Code aus um zu sehen was passiert wenn ein Befehl ungültig ist.\n",
    "len(str(500.0))"
   ]
  },
  {
   "cell_type": "code",
   "execution_count": 26,
   "metadata": {
    "colab": {
     "base_uri": "https://localhost:8080/"
    },
    "executionInfo": {
     "elapsed": 259,
     "status": "ok",
     "timestamp": 1649319969989,
     "user": {
      "displayName": "Moritz Bauer",
      "userId": "06541477486425102203"
     },
     "user_tz": -120
    },
    "id": "v7y_hoLvEd1r",
    "outputId": "b2f27101-e1e3-4d47-f8ca-8eb779b5d3e6"
   },
   "outputs": [
    {
     "data": {
      "text/plain": [
       "0"
      ]
     },
     "execution_count": 26,
     "metadata": {},
     "output_type": "execute_result"
    }
   ],
   "source": [
    "2//3"
   ]
  },
  {
   "cell_type": "markdown",
   "metadata": {
    "id": "vxKASfUzDMy9"
   },
   "source": [
    "## Zahlen\n",
    "Für uns werden vorallem Zahlen sehr wichtig sein.\n",
    "\n",
    "Mit Zahlen können wir rechnen . Es gibt in python 7 Grundrechenarten:\n",
    "\n",
    "* `+` Addieren\n",
    "* `-` Subtrahieren\n",
    "* `*` Multiplizieren\n",
    "* `/` Dividieren\n",
    "* `//` Ganzzahlig Dividieren\n",
    "* `%` Rest der Division\n",
    "* `**` Potenzieren\n"
   ]
  },
  {
   "cell_type": "code",
   "execution_count": 17,
   "metadata": {
    "colab": {
     "base_uri": "https://localhost:8080/"
    },
    "executionInfo": {
     "elapsed": 282,
     "status": "ok",
     "timestamp": 1649319881818,
     "user": {
      "displayName": "Moritz Bauer",
      "userId": "06541477486425102203"
     },
     "user_tz": -120
    },
    "id": "L_zFoibdDOOW",
    "outputId": "94ba6fd5-1e89-4652-bfd9-8f2205072ce8"
   },
   "outputs": [
    {
     "data": {
      "text/plain": [
       "9"
      ]
     },
     "execution_count": 17,
     "metadata": {},
     "output_type": "execute_result"
    }
   ],
   "source": [
    "4+5"
   ]
  },
  {
   "cell_type": "code",
   "execution_count": 18,
   "metadata": {
    "colab": {
     "base_uri": "https://localhost:8080/"
    },
    "executionInfo": {
     "elapsed": 280,
     "status": "ok",
     "timestamp": 1649319884845,
     "user": {
      "displayName": "Moritz Bauer",
      "userId": "06541477486425102203"
     },
     "user_tz": -120
    },
    "id": "jLlQbVAGEBNj",
    "outputId": "2a4a81cb-3a87-4888-cb22-3b84eda10d5c"
   },
   "outputs": [
    {
     "data": {
      "text/plain": [
       "9"
      ]
     },
     "execution_count": 18,
     "metadata": {},
     "output_type": "execute_result"
    }
   ],
   "source": [
    "11-2"
   ]
  },
  {
   "cell_type": "code",
   "execution_count": 19,
   "metadata": {
    "colab": {
     "base_uri": "https://localhost:8080/"
    },
    "executionInfo": {
     "elapsed": 266,
     "status": "ok",
     "timestamp": 1649319889494,
     "user": {
      "displayName": "Moritz Bauer",
      "userId": "06541477486425102203"
     },
     "user_tz": -120
    },
    "id": "mG6svS4yEbk8",
    "outputId": "bd62e93f-7bf3-4fc1-d99f-1cf7b9449f76"
   },
   "outputs": [
    {
     "data": {
      "text/plain": [
       "9"
      ]
     },
     "execution_count": 19,
     "metadata": {},
     "output_type": "execute_result"
    }
   ],
   "source": [
    "3*3"
   ]
  },
  {
   "cell_type": "code",
   "execution_count": 20,
   "metadata": {
    "colab": {
     "base_uri": "https://localhost:8080/"
    },
    "executionInfo": {
     "elapsed": 236,
     "status": "ok",
     "timestamp": 1649319894676,
     "user": {
      "displayName": "Moritz Bauer",
      "userId": "06541477486425102203"
     },
     "user_tz": -120
    },
    "id": "dVUmcOKTEiVK",
    "outputId": "f8ad2f01-1f4b-40d3-cb4e-d47cee8c93dd"
   },
   "outputs": [
    {
     "data": {
      "text/plain": [
       "9.0"
      ]
     },
     "execution_count": 20,
     "metadata": {},
     "output_type": "execute_result"
    }
   ],
   "source": [
    "18/2"
   ]
  },
  {
   "cell_type": "code",
   "execution_count": 21,
   "metadata": {
    "colab": {
     "base_uri": "https://localhost:8080/"
    },
    "executionInfo": {
     "elapsed": 252,
     "status": "ok",
     "timestamp": 1649319929667,
     "user": {
      "displayName": "Moritz Bauer",
      "userId": "06541477486425102203"
     },
     "user_tz": -120
    },
    "id": "DPRm6emaZyDH",
    "outputId": "4d82f963-2a4a-4047-ac12-332d76f4e02a"
   },
   "outputs": [
    {
     "data": {
      "text/plain": [
       "3"
      ]
     },
     "execution_count": 21,
     "metadata": {},
     "output_type": "execute_result"
    }
   ],
   "source": [
    "10 // 3"
   ]
  },
  {
   "cell_type": "code",
   "execution_count": 27,
   "metadata": {
    "colab": {
     "base_uri": "https://localhost:8080/"
    },
    "executionInfo": {
     "elapsed": 263,
     "status": "ok",
     "timestamp": 1649319979179,
     "user": {
      "displayName": "Moritz Bauer",
      "userId": "06541477486425102203"
     },
     "user_tz": -120
    },
    "id": "ys97BD4qElBT",
    "outputId": "e168d01d-12cd-4e46-d165-f9229cd2d082"
   },
   "outputs": [
    {
     "data": {
      "text/plain": [
       "9"
      ]
     },
     "execution_count": 27,
     "metadata": {},
     "output_type": "execute_result"
    }
   ],
   "source": [
    "19%10"
   ]
  },
  {
   "cell_type": "code",
   "execution_count": 28,
   "metadata": {
    "colab": {
     "base_uri": "https://localhost:8080/"
    },
    "executionInfo": {
     "elapsed": 260,
     "status": "ok",
     "timestamp": 1649319986482,
     "user": {
      "displayName": "Moritz Bauer",
      "userId": "06541477486425102203"
     },
     "user_tz": -120
    },
    "id": "HopxvOGoEq5_",
    "outputId": "4b55777b-a4e0-4b66-c3b2-ab07d94f22f9"
   },
   "outputs": [
    {
     "data": {
      "text/plain": [
       "9"
      ]
     },
     "execution_count": 28,
     "metadata": {},
     "output_type": "execute_result"
    }
   ],
   "source": [
    "3**2"
   ]
  },
  {
   "cell_type": "code",
   "execution_count": 31,
   "metadata": {
    "colab": {
     "base_uri": "https://localhost:8080/"
    },
    "executionInfo": {
     "elapsed": 6,
     "status": "ok",
     "timestamp": 1649320032085,
     "user": {
      "displayName": "Moritz Bauer",
      "userId": "06541477486425102203"
     },
     "user_tz": -120
    },
    "id": "JimTT21nIf9S",
    "outputId": "67850d76-60fc-4373-c10c-34303933a3c4"
   },
   "outputs": [
    {
     "data": {
      "text/plain": [
       "False"
      ]
     },
     "execution_count": 31,
     "metadata": {},
     "output_type": "execute_result"
    }
   ],
   "source": [
    "42%2==1"
   ]
  },
  {
   "cell_type": "markdown",
   "metadata": {
    "id": "lYhVIH-mFd-z"
   },
   "source": [
    "### float und int\n",
    "Wer bei diesen Beispielen genau hinsieht bemerkt, dass manchmal eine ganze Zahl `9` und machmal eine Dezimalzahl Ausgeben wird `9.0`. Dezimalzahlen werden in der Regel mit `.` statt `,` geschrieben.\n",
    "\n",
    "Ganze Zahlen nennen wir *Integers* `int` und Gleitkommazahlen nennen wir *Floating-point* `float`.\n",
    "\n",
    "Die unterschiede Zwischen den beiden Zahlen Typen sind sehr gering und für den Anfang nicht wichtig. Wir können mit beiden Typen alles machen, nur die Ausgabe ist wie wir gesehen haben unterschiedlich.\n",
    "\n",
    "Python wandelt `int` automatisch in `float` um wenn wir Nachkommastellen haben können, wie bei der Division."
   ]
  },
  {
   "cell_type": "markdown",
   "metadata": {
    "id": "7vKPx7zPFIfN"
   },
   "source": [
    "Wir können aber auch Kompliziertere Berechnungen machen."
   ]
  },
  {
   "cell_type": "code",
   "execution_count": null,
   "metadata": {
    "id": "Pd5SNHuxFNCz"
   },
   "outputs": [],
   "source": [
    "37 * ( 1 + 3.5/100 ) ** 10"
   ]
  },
  {
   "cell_type": "markdown",
   "metadata": {
    "id": "n6yyMaOZHmjs"
   },
   "source": [
    "## Variablen\n",
    "\n",
    "Berechnungen können schnell sehr kompliziert werden, und es ist dann nicht mehr so leicht zu verstehen was gemeint ist. Da hilft dann auch kein Kommentar mehr.\n",
    "\n",
    "Wir können jedoch Variablen verwenden um die Berechnung besser zu beschreiben. Dadurch wird unser Code leichter zu lesen, zu verstehn und zu bearbeiten.\n",
    "\n",
    "Sehen wir uns das vorherige Beispiel nochmal an, aber dieses Mal mit Variablen."
   ]
  },
  {
   "cell_type": "code",
   "execution_count": null,
   "metadata": {
    "colab": {
     "base_uri": "https://localhost:8080/"
    },
    "id": "AJHU9LVhIjE0",
    "outputId": "8281af50-aa0c-4f90-fe73-f16bb7bc3ee1"
   },
   "outputs": [
    {
     "name": "stdout",
     "output_type": "stream",
     "text": [
      "52.19215414298148\n"
     ]
    }
   ],
   "source": [
    "anfangskapital = 37\n",
    "zinssatz = 3.5\n",
    "zinsfaktor = (1 + zinssatz / 100)\n",
    "laufzeit = 10\n",
    "\n",
    "kapital = anfangskapital * zinsfaktor ** laufzeit\n",
    "print(kapital)"
   ]
  },
  {
   "cell_type": "markdown",
   "metadata": {
    "id": "ImIgXRiFDLTI"
   },
   "source": [
    "## Strings\n",
    "\n",
    "Aber es wäre schön wenn wir die Ausgabe mit einem schönen *string* machen:"
   ]
  },
  {
   "cell_type": "code",
   "execution_count": null,
   "metadata": {
    "id": "5nDms6LQC_Hx"
   },
   "outputs": [],
   "source": [
    "ausgabe = \"Das Kapital nach \" + str(laufzeit) + \" Jahren beträgt: € \" + str(kapital) + \".\"\n",
    "print(ausgabe)"
   ]
  },
  {
   "cell_type": "markdown",
   "metadata": {
    "id": "marALFLHDkbs"
   },
   "source": [
    "Strings können aber auch auf eine elegantere Art gebaut werden.\n",
    "### Foramted Strings\n",
    "\n",
    "Ein formated String wird mit einem Template gebaut und `{}` sind Platzhalter für Werte die später eingefügt werden.\n",
    "\n",
    "Ein Template ist also eine Vorlage oder ein Bauplan für strings."
   ]
  },
  {
   "cell_type": "code",
   "execution_count": null,
   "metadata": {
    "id": "frvZSXYfDYyR"
   },
   "outputs": [],
   "source": [
    "template = \"Das Kapital nach {} Jahren beträgt: € {}.\"\n",
    "print(template)"
   ]
  },
  {
   "cell_type": "markdown",
   "metadata": {
    "id": "zm3R4j8nEZLX"
   },
   "source": [
    "nun ersetzen wir die Platzhalter mit der Funktion `format()`"
   ]
  },
  {
   "cell_type": "code",
   "execution_count": null,
   "metadata": {
    "id": "XELsyMhPERVI"
   },
   "outputs": [],
   "source": [
    "template_output = template.format(laufzeit,kapital)\n",
    "print(formated_output)"
   ]
  },
  {
   "cell_type": "markdown",
   "metadata": {
    "id": "R8ib9Z-NE7eK"
   },
   "source": [
    "Der €-Betrag ist nicht schön. Bei Geldbeträgen wollen wir nur 2 Nachkommerstellen anzeigen. Das machen wir indem wir dem Platzhalter sagen wie die Zahl formatiert werden soll.\n",
    "\n",
    "`{:.2f}` kann verwendet werden um nur 2 Nachkommastellen anzuzeigen.\n",
    "\n",
    "`\\n` kann verwendet werden um eine **n**eue Zeile anzufangen (linebreak).\n",
    "\n",
    "Weiters können wir das template definieren und gleich mit `format` befüllen.\n"
   ]
  },
  {
   "cell_type": "code",
   "execution_count": null,
   "metadata": {
    "colab": {
     "base_uri": "https://localhost:8080/"
    },
    "id": "U2gFrC91ErL6",
    "outputId": "ee9dd1af-0944-4787-fd35-edddd23519f7"
   },
   "outputs": [
    {
     "name": "stdout",
     "output_type": "stream",
     "text": [
      "Das Anfangskapital beträgt: € 37.00.\n",
      "Der Zinssatz beträgt: 3.5%.\n",
      "Das Kapital nach 10 Jahren beträgt: € 52.19.\n"
     ]
    }
   ],
   "source": [
    "better_output = \"Das Anfangskapital beträgt: € {:.2f}.\\nDer Zinssatz beträgt: {}%.\\nDas Kapital nach {} Jahren beträgt: € {:.2f}.\".format(anfangskapital,zinssatz,laufzeit,kapital)\n",
    "print(better_output)"
   ]
  },
  {
   "cell_type": "markdown",
   "metadata": {
    "id": "kLDu8VzXGnhU"
   },
   "source": [
    "## Recap\n",
    "\n",
    "Wir haben jetzt die Basics die wir brauchen um kleine Rechnungen auszführen.\n",
    "Wir können Variablen definieren. Und wir wissen wie wir unsere Ausgaben gestalten."
   ]
  }
 ],
 "metadata": {
  "colab": {
   "collapsed_sections": [],
   "name": "python_basics.ipynb",
   "provenance": []
  },
  "kernelspec": {
   "display_name": "Python 3 (ipykernel)",
   "language": "python",
   "name": "python3"
  },
  "language_info": {
   "codemirror_mode": {
    "name": "ipython",
    "version": 3
   },
   "file_extension": ".py",
   "mimetype": "text/x-python",
   "name": "python",
   "nbconvert_exporter": "python",
   "pygments_lexer": "ipython3",
   "version": "3.8.10"
  }
 },
 "nbformat": 4,
 "nbformat_minor": 1
}
